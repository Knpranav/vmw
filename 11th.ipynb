{
 "cells": [
  {
   "cell_type": "code",
   "execution_count": 2,
   "id": "5985ab00",
   "metadata": {},
   "outputs": [
    {
     "name": "stdout",
     "output_type": "stream",
     "text": [
      "Epoch 1/5\n",
      "1875/1875 [==============================] - 20s 10ms/step - loss: 0.1798 - accuracy: 0.9469\n",
      "Epoch 2/5\n",
      "1875/1875 [==============================] - 18s 10ms/step - loss: 0.0701 - accuracy: 0.9792\n",
      "Epoch 3/5\n",
      "1875/1875 [==============================] - 18s 10ms/step - loss: 0.0507 - accuracy: 0.9844\n",
      "Epoch 4/5\n",
      "1875/1875 [==============================] - 18s 10ms/step - loss: 0.0366 - accuracy: 0.9885\n",
      "Epoch 5/5\n",
      "1875/1875 [==============================] - 18s 10ms/step - loss: 0.0278 - accuracy: 0.9914\n",
      "313/313 [==============================] - 1s 4ms/step - loss: 0.0585 - accuracy: 0.9826\n",
      "Test Loss: 0.05848649889230728\n",
      "Test Accuracy: 0.9825999736785889\n"
     ]
    }
   ],
   "source": [
    "import tensorflow as tf\n",
    "from tensorflow.keras.datasets import mnist\n",
    "\n",
    "# Load and preprocess the MNIST dataset\n",
    "(xt,yt),(xte,yte) = mnist.load_data()\n",
    "xt,xte = xt/255.0, xte/255.0\n",
    "\n",
    "# Build a simple CNN model\n",
    "model = tf.keras.models.Sequential([\n",
    "    tf.keras.layers.Conv2D(32,3, activation='relu', input_shape=(28, 28, 1)),\n",
    "    tf.keras.layers.Flatten(),\n",
    "    tf.keras.layers.Dense(10, activation='softmax')\n",
    "])\n",
    "\n",
    "# Compile and train the model\n",
    "model.compile(optimizer='adam', loss='sparse_categorical_crossentropy', metrics=['accuracy'])\n",
    "model.fit(xt,yt,epochs=5)\n",
    "\n",
    "# Evaluate the model on the test set\n",
    "loss, accuracy = model.evaluate(xte,yte)\n",
    "print(\"Test Loss:\", loss)\n",
    "print(\"Test Accuracy:\", accuracy)\n"
   ]
  },
  {
   "cell_type": "code",
   "execution_count": 14,
   "id": "0be6987c",
   "metadata": {},
   "outputs": [],
   "source": [
    "import tensorflow as tf\n",
    "from tensorflow.keras.datasets import mnist\n"
   ]
  },
  {
   "cell_type": "code",
   "execution_count": 15,
   "id": "46157d5d",
   "metadata": {},
   "outputs": [],
   "source": [
    "(xt,yt),(xte,yte) = mnist.load_data()\n",
    "xte,yte = xte/255.0,yte/255.0"
   ]
  },
  {
   "cell_type": "code",
   "execution_count": 18,
   "id": "8a9ab61d",
   "metadata": {},
   "outputs": [
    {
     "name": "stdout",
     "output_type": "stream",
     "text": [
      "Epoch 1/2\n",
      "1875/1875 [==============================] - 19s 10ms/step - loss: 0.8381 - accuracy: 0.9362\n",
      "Epoch 2/2\n",
      "1875/1875 [==============================] - 20s 11ms/step - loss: 0.0860 - accuracy: 0.9740\n",
      "313/313 [==============================] - 1s 4ms/step - loss: 2.3824 - accuracy: 0.0000e+00\n"
     ]
    }
   ],
   "source": [
    "model = tf.keras.models.Sequential([\n",
    "      tf.keras.layers.Conv2D(32,3, activation='relu', input_shape=(28, 28, 1)),\n",
    "      tf.keras.layers.Flatten(),\n",
    "#     tf.keras.layers.Conv2D(32,3,activation='relu',input_shape=(28,28,1))\n",
    "#     tf.keras.layers.Flatten()\n",
    "    tf.keras.layers.Dense(10,activation='softmax')\n",
    "])\n",
    "model.compile(optimizer='adam',loss='sparse_categorical_crossentropy',metrics=['accuracy'])\n",
    "model.fit(xt,yt,epochs = 2)\n",
    "loss,accuracy = model.evaluate(xte,yte)\n"
   ]
  }
 ],
 "metadata": {
  "kernelspec": {
   "display_name": "Python 3 (ipykernel)",
   "language": "python",
   "name": "python3"
  },
  "language_info": {
   "codemirror_mode": {
    "name": "ipython",
    "version": 3
   },
   "file_extension": ".py",
   "mimetype": "text/x-python",
   "name": "python",
   "nbconvert_exporter": "python",
   "pygments_lexer": "ipython3",
   "version": "3.9.13"
  }
 },
 "nbformat": 4,
 "nbformat_minor": 5
}
